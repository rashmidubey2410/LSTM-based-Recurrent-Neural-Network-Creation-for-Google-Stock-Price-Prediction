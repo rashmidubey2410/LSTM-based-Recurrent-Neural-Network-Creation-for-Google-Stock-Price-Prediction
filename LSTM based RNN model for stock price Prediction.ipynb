{
 "cells": [
  {
   "cell_type": "markdown",
   "metadata": {},
   "source": [
    "# Google Stock Price Prediction Using RNN - LSTM"
   ]
  },
  {
   "cell_type": "markdown",
   "metadata": {},
   "source": [
    "#### Dataset Link : https://finance.yahoo.com/quote/GOOG/history\n",
    "\n",
    "____\n",
    "\n",
    "## 1. Data processing\n",
    "\n",
    "### 1.1 Import data"
   ]
  },
  {
   "cell_type": "code",
   "execution_count": 1,
   "metadata": {},
   "outputs": [],
   "source": [
    "# importing required libraries\n",
    "import numpy as np\n",
    "import pandas as pd\n",
    "from matplotlib import pyplot as plt\n"
   ]
  },
  {
   "cell_type": "code",
   "execution_count": 2,
   "metadata": {},
   "outputs": [],
   "source": [
    "data=pd.read_csv('GOOG.csv',date_parser=True)"
   ]
  },
  {
   "cell_type": "code",
   "execution_count": 3,
   "metadata": {},
   "outputs": [
    {
     "name": "stdout",
     "output_type": "stream",
     "text": [
      "<class 'pandas.core.frame.DataFrame'>\n",
      "RangeIndex: 3994 entries, 0 to 3993\n",
      "Data columns (total 7 columns):\n",
      "Date         3994 non-null object\n",
      "Open         3994 non-null float64\n",
      "High         3994 non-null float64\n",
      "Low          3994 non-null float64\n",
      "Close        3994 non-null float64\n",
      "Adj Close    3994 non-null float64\n",
      "Volume       3994 non-null int64\n",
      "dtypes: float64(5), int64(1), object(1)\n",
      "memory usage: 218.5+ KB\n"
     ]
    }
   ],
   "source": [
    "data.info()"
   ]
  },
  {
   "cell_type": "code",
   "execution_count": 4,
   "metadata": {},
   "outputs": [
    {
     "data": {
      "text/html": [
       "<div>\n",
       "<style scoped>\n",
       "    .dataframe tbody tr th:only-of-type {\n",
       "        vertical-align: middle;\n",
       "    }\n",
       "\n",
       "    .dataframe tbody tr th {\n",
       "        vertical-align: top;\n",
       "    }\n",
       "\n",
       "    .dataframe thead th {\n",
       "        text-align: right;\n",
       "    }\n",
       "</style>\n",
       "<table border=\"1\" class=\"dataframe\">\n",
       "  <thead>\n",
       "    <tr style=\"text-align: right;\">\n",
       "      <th></th>\n",
       "      <th>Date</th>\n",
       "      <th>Open</th>\n",
       "      <th>High</th>\n",
       "      <th>Low</th>\n",
       "      <th>Close</th>\n",
       "      <th>Adj Close</th>\n",
       "      <th>Volume</th>\n",
       "    </tr>\n",
       "  </thead>\n",
       "  <tbody>\n",
       "    <tr>\n",
       "      <td>0</td>\n",
       "      <td>19-08-2004</td>\n",
       "      <td>49.813286</td>\n",
       "      <td>51.835709</td>\n",
       "      <td>47.800831</td>\n",
       "      <td>49.982655</td>\n",
       "      <td>49.982655</td>\n",
       "      <td>44871300</td>\n",
       "    </tr>\n",
       "    <tr>\n",
       "      <td>1</td>\n",
       "      <td>20-08-2004</td>\n",
       "      <td>50.316402</td>\n",
       "      <td>54.336334</td>\n",
       "      <td>50.062355</td>\n",
       "      <td>53.952770</td>\n",
       "      <td>53.952770</td>\n",
       "      <td>22942800</td>\n",
       "    </tr>\n",
       "    <tr>\n",
       "      <td>2</td>\n",
       "      <td>23-08-2004</td>\n",
       "      <td>55.168217</td>\n",
       "      <td>56.528118</td>\n",
       "      <td>54.321388</td>\n",
       "      <td>54.495735</td>\n",
       "      <td>54.495735</td>\n",
       "      <td>18342800</td>\n",
       "    </tr>\n",
       "    <tr>\n",
       "      <td>3</td>\n",
       "      <td>24-08-2004</td>\n",
       "      <td>55.412300</td>\n",
       "      <td>55.591629</td>\n",
       "      <td>51.591621</td>\n",
       "      <td>52.239193</td>\n",
       "      <td>52.239193</td>\n",
       "      <td>15319700</td>\n",
       "    </tr>\n",
       "    <tr>\n",
       "      <td>4</td>\n",
       "      <td>25-08-2004</td>\n",
       "      <td>52.284027</td>\n",
       "      <td>53.798351</td>\n",
       "      <td>51.746044</td>\n",
       "      <td>52.802086</td>\n",
       "      <td>52.802086</td>\n",
       "      <td>9232100</td>\n",
       "    </tr>\n",
       "  </tbody>\n",
       "</table>\n",
       "</div>"
      ],
      "text/plain": [
       "         Date       Open       High        Low      Close  Adj Close    Volume\n",
       "0  19-08-2004  49.813286  51.835709  47.800831  49.982655  49.982655  44871300\n",
       "1  20-08-2004  50.316402  54.336334  50.062355  53.952770  53.952770  22942800\n",
       "2  23-08-2004  55.168217  56.528118  54.321388  54.495735  54.495735  18342800\n",
       "3  24-08-2004  55.412300  55.591629  51.591621  52.239193  52.239193  15319700\n",
       "4  25-08-2004  52.284027  53.798351  51.746044  52.802086  52.802086   9232100"
      ]
     },
     "execution_count": 4,
     "metadata": {},
     "output_type": "execute_result"
    }
   ],
   "source": [
    "data.head()"
   ]
  },
  {
   "cell_type": "code",
   "execution_count": 5,
   "metadata": {},
   "outputs": [
    {
     "data": {
      "text/html": [
       "<div>\n",
       "<style scoped>\n",
       "    .dataframe tbody tr th:only-of-type {\n",
       "        vertical-align: middle;\n",
       "    }\n",
       "\n",
       "    .dataframe tbody tr th {\n",
       "        vertical-align: top;\n",
       "    }\n",
       "\n",
       "    .dataframe thead th {\n",
       "        text-align: right;\n",
       "    }\n",
       "</style>\n",
       "<table border=\"1\" class=\"dataframe\">\n",
       "  <thead>\n",
       "    <tr style=\"text-align: right;\">\n",
       "      <th></th>\n",
       "      <th>Date</th>\n",
       "      <th>Open</th>\n",
       "      <th>High</th>\n",
       "      <th>Low</th>\n",
       "      <th>Close</th>\n",
       "      <th>Adj Close</th>\n",
       "      <th>Volume</th>\n",
       "    </tr>\n",
       "  </thead>\n",
       "  <tbody>\n",
       "    <tr>\n",
       "      <td>3989</td>\n",
       "      <td>24-06-2020</td>\n",
       "      <td>1461.510010</td>\n",
       "      <td>1475.420044</td>\n",
       "      <td>1429.750000</td>\n",
       "      <td>1431.969971</td>\n",
       "      <td>1431.969971</td>\n",
       "      <td>1756000</td>\n",
       "    </tr>\n",
       "    <tr>\n",
       "      <td>3990</td>\n",
       "      <td>25-06-2020</td>\n",
       "      <td>1429.900024</td>\n",
       "      <td>1442.900024</td>\n",
       "      <td>1420.000000</td>\n",
       "      <td>1441.329956</td>\n",
       "      <td>1441.329956</td>\n",
       "      <td>1230500</td>\n",
       "    </tr>\n",
       "    <tr>\n",
       "      <td>3991</td>\n",
       "      <td>26-06-2020</td>\n",
       "      <td>1431.390015</td>\n",
       "      <td>1433.449951</td>\n",
       "      <td>1351.989990</td>\n",
       "      <td>1359.900024</td>\n",
       "      <td>1359.900024</td>\n",
       "      <td>4267700</td>\n",
       "    </tr>\n",
       "    <tr>\n",
       "      <td>3992</td>\n",
       "      <td>29-06-2020</td>\n",
       "      <td>1358.180054</td>\n",
       "      <td>1395.599976</td>\n",
       "      <td>1347.010010</td>\n",
       "      <td>1394.969971</td>\n",
       "      <td>1394.969971</td>\n",
       "      <td>1810200</td>\n",
       "    </tr>\n",
       "    <tr>\n",
       "      <td>3993</td>\n",
       "      <td>30-06-2020</td>\n",
       "      <td>1390.439941</td>\n",
       "      <td>1418.650024</td>\n",
       "      <td>1383.959961</td>\n",
       "      <td>1413.609985</td>\n",
       "      <td>1413.609985</td>\n",
       "      <td>2041600</td>\n",
       "    </tr>\n",
       "  </tbody>\n",
       "</table>\n",
       "</div>"
      ],
      "text/plain": [
       "            Date         Open         High          Low        Close  \\\n",
       "3989  24-06-2020  1461.510010  1475.420044  1429.750000  1431.969971   \n",
       "3990  25-06-2020  1429.900024  1442.900024  1420.000000  1441.329956   \n",
       "3991  26-06-2020  1431.390015  1433.449951  1351.989990  1359.900024   \n",
       "3992  29-06-2020  1358.180054  1395.599976  1347.010010  1394.969971   \n",
       "3993  30-06-2020  1390.439941  1418.650024  1383.959961  1413.609985   \n",
       "\n",
       "        Adj Close   Volume  \n",
       "3989  1431.969971  1756000  \n",
       "3990  1441.329956  1230500  \n",
       "3991  1359.900024  4267700  \n",
       "3992  1394.969971  1810200  \n",
       "3993  1413.609985  2041600  "
      ]
     },
     "execution_count": 5,
     "metadata": {},
     "output_type": "execute_result"
    }
   ],
   "source": [
    "data.tail()"
   ]
  },
  {
   "cell_type": "code",
   "execution_count": 6,
   "metadata": {},
   "outputs": [
    {
     "data": {
      "text/html": [
       "<div>\n",
       "<style scoped>\n",
       "    .dataframe tbody tr th:only-of-type {\n",
       "        vertical-align: middle;\n",
       "    }\n",
       "\n",
       "    .dataframe tbody tr th {\n",
       "        vertical-align: top;\n",
       "    }\n",
       "\n",
       "    .dataframe thead th {\n",
       "        text-align: right;\n",
       "    }\n",
       "</style>\n",
       "<table border=\"1\" class=\"dataframe\">\n",
       "  <thead>\n",
       "    <tr style=\"text-align: right;\">\n",
       "      <th></th>\n",
       "      <th>Date</th>\n",
       "      <th>Open</th>\n",
       "      <th>High</th>\n",
       "      <th>Low</th>\n",
       "      <th>Close</th>\n",
       "      <th>Adj Close</th>\n",
       "      <th>Volume</th>\n",
       "    </tr>\n",
       "  </thead>\n",
       "  <tbody>\n",
       "    <tr>\n",
       "      <td>0</td>\n",
       "      <td>19-08-2004</td>\n",
       "      <td>49.813286</td>\n",
       "      <td>51.835709</td>\n",
       "      <td>47.800831</td>\n",
       "      <td>49.982655</td>\n",
       "      <td>49.982655</td>\n",
       "      <td>44871300</td>\n",
       "    </tr>\n",
       "    <tr>\n",
       "      <td>1</td>\n",
       "      <td>20-08-2004</td>\n",
       "      <td>50.316402</td>\n",
       "      <td>54.336334</td>\n",
       "      <td>50.062355</td>\n",
       "      <td>53.952770</td>\n",
       "      <td>53.952770</td>\n",
       "      <td>22942800</td>\n",
       "    </tr>\n",
       "    <tr>\n",
       "      <td>9</td>\n",
       "      <td>01-09-2004</td>\n",
       "      <td>51.158245</td>\n",
       "      <td>51.292744</td>\n",
       "      <td>49.648903</td>\n",
       "      <td>49.937820</td>\n",
       "      <td>49.937820</td>\n",
       "      <td>9181600</td>\n",
       "    </tr>\n",
       "    <tr>\n",
       "      <td>10</td>\n",
       "      <td>02-09-2004</td>\n",
       "      <td>49.409801</td>\n",
       "      <td>50.993862</td>\n",
       "      <td>49.285267</td>\n",
       "      <td>50.565468</td>\n",
       "      <td>50.565468</td>\n",
       "      <td>15190400</td>\n",
       "    </tr>\n",
       "    <tr>\n",
       "      <td>11</td>\n",
       "      <td>03-09-2004</td>\n",
       "      <td>50.286514</td>\n",
       "      <td>50.680038</td>\n",
       "      <td>49.474556</td>\n",
       "      <td>49.818268</td>\n",
       "      <td>49.818268</td>\n",
       "      <td>5176800</td>\n",
       "    </tr>\n",
       "    <tr>\n",
       "      <td>...</td>\n",
       "      <td>...</td>\n",
       "      <td>...</td>\n",
       "      <td>...</td>\n",
       "      <td>...</td>\n",
       "      <td>...</td>\n",
       "      <td>...</td>\n",
       "      <td>...</td>\n",
       "    </tr>\n",
       "    <tr>\n",
       "      <td>3982</td>\n",
       "      <td>15-06-2020</td>\n",
       "      <td>1390.800049</td>\n",
       "      <td>1424.800049</td>\n",
       "      <td>1387.920044</td>\n",
       "      <td>1419.849976</td>\n",
       "      <td>1419.849976</td>\n",
       "      <td>1503900</td>\n",
       "    </tr>\n",
       "    <tr>\n",
       "      <td>3983</td>\n",
       "      <td>16-06-2020</td>\n",
       "      <td>1445.219971</td>\n",
       "      <td>1455.020020</td>\n",
       "      <td>1425.900024</td>\n",
       "      <td>1442.719971</td>\n",
       "      <td>1442.719971</td>\n",
       "      <td>1709200</td>\n",
       "    </tr>\n",
       "    <tr>\n",
       "      <td>3984</td>\n",
       "      <td>17-06-2020</td>\n",
       "      <td>1447.160034</td>\n",
       "      <td>1460.000000</td>\n",
       "      <td>1431.380005</td>\n",
       "      <td>1451.119995</td>\n",
       "      <td>1451.119995</td>\n",
       "      <td>1548300</td>\n",
       "    </tr>\n",
       "    <tr>\n",
       "      <td>3985</td>\n",
       "      <td>18-06-2020</td>\n",
       "      <td>1449.160034</td>\n",
       "      <td>1451.410034</td>\n",
       "      <td>1427.010010</td>\n",
       "      <td>1435.959961</td>\n",
       "      <td>1435.959961</td>\n",
       "      <td>1581900</td>\n",
       "    </tr>\n",
       "    <tr>\n",
       "      <td>3986</td>\n",
       "      <td>19-06-2020</td>\n",
       "      <td>1444.000000</td>\n",
       "      <td>1447.800049</td>\n",
       "      <td>1421.349976</td>\n",
       "      <td>1431.719971</td>\n",
       "      <td>1431.719971</td>\n",
       "      <td>3157900</td>\n",
       "    </tr>\n",
       "  </tbody>\n",
       "</table>\n",
       "<p>2632 rows × 7 columns</p>\n",
       "</div>"
      ],
      "text/plain": [
       "            Date         Open         High          Low        Close  \\\n",
       "0     19-08-2004    49.813286    51.835709    47.800831    49.982655   \n",
       "1     20-08-2004    50.316402    54.336334    50.062355    53.952770   \n",
       "9     01-09-2004    51.158245    51.292744    49.648903    49.937820   \n",
       "10    02-09-2004    49.409801    50.993862    49.285267    50.565468   \n",
       "11    03-09-2004    50.286514    50.680038    49.474556    49.818268   \n",
       "...          ...          ...          ...          ...          ...   \n",
       "3982  15-06-2020  1390.800049  1424.800049  1387.920044  1419.849976   \n",
       "3983  16-06-2020  1445.219971  1455.020020  1425.900024  1442.719971   \n",
       "3984  17-06-2020  1447.160034  1460.000000  1431.380005  1451.119995   \n",
       "3985  18-06-2020  1449.160034  1451.410034  1427.010010  1435.959961   \n",
       "3986  19-06-2020  1444.000000  1447.800049  1421.349976  1431.719971   \n",
       "\n",
       "        Adj Close    Volume  \n",
       "0       49.982655  44871300  \n",
       "1       53.952770  22942800  \n",
       "9       49.937820   9181600  \n",
       "10      50.565468  15190400  \n",
       "11      49.818268   5176800  \n",
       "...           ...       ...  \n",
       "3982  1419.849976   1503900  \n",
       "3983  1442.719971   1709200  \n",
       "3984  1451.119995   1548300  \n",
       "3985  1435.959961   1581900  \n",
       "3986  1431.719971   3157900  \n",
       "\n",
       "[2632 rows x 7 columns]"
      ]
     },
     "execution_count": 6,
     "metadata": {},
     "output_type": "execute_result"
    }
   ],
   "source": [
    "data_training=data[data['Date']<'2019-01-01'].copy()\n",
    "data_training"
   ]
  },
  {
   "cell_type": "code",
   "execution_count": 7,
   "metadata": {},
   "outputs": [
    {
     "data": {
      "text/html": [
       "<div>\n",
       "<style scoped>\n",
       "    .dataframe tbody tr th:only-of-type {\n",
       "        vertical-align: middle;\n",
       "    }\n",
       "\n",
       "    .dataframe tbody tr th {\n",
       "        vertical-align: top;\n",
       "    }\n",
       "\n",
       "    .dataframe thead th {\n",
       "        text-align: right;\n",
       "    }\n",
       "</style>\n",
       "<table border=\"1\" class=\"dataframe\">\n",
       "  <thead>\n",
       "    <tr style=\"text-align: right;\">\n",
       "      <th></th>\n",
       "      <th>Date</th>\n",
       "      <th>Open</th>\n",
       "      <th>High</th>\n",
       "      <th>Low</th>\n",
       "      <th>Close</th>\n",
       "      <th>Adj Close</th>\n",
       "      <th>Volume</th>\n",
       "    </tr>\n",
       "  </thead>\n",
       "  <tbody>\n",
       "    <tr>\n",
       "      <td>2</td>\n",
       "      <td>23-08-2004</td>\n",
       "      <td>55.168217</td>\n",
       "      <td>56.528118</td>\n",
       "      <td>54.321388</td>\n",
       "      <td>54.495735</td>\n",
       "      <td>54.495735</td>\n",
       "      <td>18342800</td>\n",
       "    </tr>\n",
       "    <tr>\n",
       "      <td>3</td>\n",
       "      <td>24-08-2004</td>\n",
       "      <td>55.412300</td>\n",
       "      <td>55.591629</td>\n",
       "      <td>51.591621</td>\n",
       "      <td>52.239193</td>\n",
       "      <td>52.239193</td>\n",
       "      <td>15319700</td>\n",
       "    </tr>\n",
       "    <tr>\n",
       "      <td>4</td>\n",
       "      <td>25-08-2004</td>\n",
       "      <td>52.284027</td>\n",
       "      <td>53.798351</td>\n",
       "      <td>51.746044</td>\n",
       "      <td>52.802086</td>\n",
       "      <td>52.802086</td>\n",
       "      <td>9232100</td>\n",
       "    </tr>\n",
       "    <tr>\n",
       "      <td>5</td>\n",
       "      <td>26-08-2004</td>\n",
       "      <td>52.279045</td>\n",
       "      <td>53.773445</td>\n",
       "      <td>52.134586</td>\n",
       "      <td>53.753517</td>\n",
       "      <td>53.753517</td>\n",
       "      <td>7128600</td>\n",
       "    </tr>\n",
       "    <tr>\n",
       "      <td>6</td>\n",
       "      <td>27-08-2004</td>\n",
       "      <td>53.848164</td>\n",
       "      <td>54.107193</td>\n",
       "      <td>52.647663</td>\n",
       "      <td>52.876804</td>\n",
       "      <td>52.876804</td>\n",
       "      <td>6241200</td>\n",
       "    </tr>\n",
       "    <tr>\n",
       "      <td>...</td>\n",
       "      <td>...</td>\n",
       "      <td>...</td>\n",
       "      <td>...</td>\n",
       "      <td>...</td>\n",
       "      <td>...</td>\n",
       "      <td>...</td>\n",
       "      <td>...</td>\n",
       "    </tr>\n",
       "    <tr>\n",
       "      <td>3989</td>\n",
       "      <td>24-06-2020</td>\n",
       "      <td>1461.510010</td>\n",
       "      <td>1475.420044</td>\n",
       "      <td>1429.750000</td>\n",
       "      <td>1431.969971</td>\n",
       "      <td>1431.969971</td>\n",
       "      <td>1756000</td>\n",
       "    </tr>\n",
       "    <tr>\n",
       "      <td>3990</td>\n",
       "      <td>25-06-2020</td>\n",
       "      <td>1429.900024</td>\n",
       "      <td>1442.900024</td>\n",
       "      <td>1420.000000</td>\n",
       "      <td>1441.329956</td>\n",
       "      <td>1441.329956</td>\n",
       "      <td>1230500</td>\n",
       "    </tr>\n",
       "    <tr>\n",
       "      <td>3991</td>\n",
       "      <td>26-06-2020</td>\n",
       "      <td>1431.390015</td>\n",
       "      <td>1433.449951</td>\n",
       "      <td>1351.989990</td>\n",
       "      <td>1359.900024</td>\n",
       "      <td>1359.900024</td>\n",
       "      <td>4267700</td>\n",
       "    </tr>\n",
       "    <tr>\n",
       "      <td>3992</td>\n",
       "      <td>29-06-2020</td>\n",
       "      <td>1358.180054</td>\n",
       "      <td>1395.599976</td>\n",
       "      <td>1347.010010</td>\n",
       "      <td>1394.969971</td>\n",
       "      <td>1394.969971</td>\n",
       "      <td>1810200</td>\n",
       "    </tr>\n",
       "    <tr>\n",
       "      <td>3993</td>\n",
       "      <td>30-06-2020</td>\n",
       "      <td>1390.439941</td>\n",
       "      <td>1418.650024</td>\n",
       "      <td>1383.959961</td>\n",
       "      <td>1413.609985</td>\n",
       "      <td>1413.609985</td>\n",
       "      <td>2041600</td>\n",
       "    </tr>\n",
       "  </tbody>\n",
       "</table>\n",
       "<p>1362 rows × 7 columns</p>\n",
       "</div>"
      ],
      "text/plain": [
       "            Date         Open         High          Low        Close  \\\n",
       "2     23-08-2004    55.168217    56.528118    54.321388    54.495735   \n",
       "3     24-08-2004    55.412300    55.591629    51.591621    52.239193   \n",
       "4     25-08-2004    52.284027    53.798351    51.746044    52.802086   \n",
       "5     26-08-2004    52.279045    53.773445    52.134586    53.753517   \n",
       "6     27-08-2004    53.848164    54.107193    52.647663    52.876804   \n",
       "...          ...          ...          ...          ...          ...   \n",
       "3989  24-06-2020  1461.510010  1475.420044  1429.750000  1431.969971   \n",
       "3990  25-06-2020  1429.900024  1442.900024  1420.000000  1441.329956   \n",
       "3991  26-06-2020  1431.390015  1433.449951  1351.989990  1359.900024   \n",
       "3992  29-06-2020  1358.180054  1395.599976  1347.010010  1394.969971   \n",
       "3993  30-06-2020  1390.439941  1418.650024  1383.959961  1413.609985   \n",
       "\n",
       "        Adj Close    Volume  \n",
       "2       54.495735  18342800  \n",
       "3       52.239193  15319700  \n",
       "4       52.802086   9232100  \n",
       "5       53.753517   7128600  \n",
       "6       52.876804   6241200  \n",
       "...           ...       ...  \n",
       "3989  1431.969971   1756000  \n",
       "3990  1441.329956   1230500  \n",
       "3991  1359.900024   4267700  \n",
       "3992  1394.969971   1810200  \n",
       "3993  1413.609985   2041600  \n",
       "\n",
       "[1362 rows x 7 columns]"
      ]
     },
     "execution_count": 7,
     "metadata": {},
     "output_type": "execute_result"
    }
   ],
   "source": [
    "data_test=data[data['Date']>='2019-01-01'].copy()\n",
    "data_test"
   ]
  },
  {
   "cell_type": "code",
   "execution_count": 8,
   "metadata": {},
   "outputs": [
    {
     "data": {
      "text/html": [
       "<div>\n",
       "<style scoped>\n",
       "    .dataframe tbody tr th:only-of-type {\n",
       "        vertical-align: middle;\n",
       "    }\n",
       "\n",
       "    .dataframe tbody tr th {\n",
       "        vertical-align: top;\n",
       "    }\n",
       "\n",
       "    .dataframe thead th {\n",
       "        text-align: right;\n",
       "    }\n",
       "</style>\n",
       "<table border=\"1\" class=\"dataframe\">\n",
       "  <thead>\n",
       "    <tr style=\"text-align: right;\">\n",
       "      <th></th>\n",
       "      <th>Open</th>\n",
       "      <th>High</th>\n",
       "      <th>Low</th>\n",
       "      <th>Close</th>\n",
       "      <th>Volume</th>\n",
       "    </tr>\n",
       "  </thead>\n",
       "  <tbody>\n",
       "    <tr>\n",
       "      <td>0</td>\n",
       "      <td>49.813286</td>\n",
       "      <td>51.835709</td>\n",
       "      <td>47.800831</td>\n",
       "      <td>49.982655</td>\n",
       "      <td>44871300</td>\n",
       "    </tr>\n",
       "    <tr>\n",
       "      <td>1</td>\n",
       "      <td>50.316402</td>\n",
       "      <td>54.336334</td>\n",
       "      <td>50.062355</td>\n",
       "      <td>53.952770</td>\n",
       "      <td>22942800</td>\n",
       "    </tr>\n",
       "    <tr>\n",
       "      <td>9</td>\n",
       "      <td>51.158245</td>\n",
       "      <td>51.292744</td>\n",
       "      <td>49.648903</td>\n",
       "      <td>49.937820</td>\n",
       "      <td>9181600</td>\n",
       "    </tr>\n",
       "    <tr>\n",
       "      <td>10</td>\n",
       "      <td>49.409801</td>\n",
       "      <td>50.993862</td>\n",
       "      <td>49.285267</td>\n",
       "      <td>50.565468</td>\n",
       "      <td>15190400</td>\n",
       "    </tr>\n",
       "    <tr>\n",
       "      <td>11</td>\n",
       "      <td>50.286514</td>\n",
       "      <td>50.680038</td>\n",
       "      <td>49.474556</td>\n",
       "      <td>49.818268</td>\n",
       "      <td>5176800</td>\n",
       "    </tr>\n",
       "  </tbody>\n",
       "</table>\n",
       "</div>"
      ],
      "text/plain": [
       "         Open       High        Low      Close    Volume\n",
       "0   49.813286  51.835709  47.800831  49.982655  44871300\n",
       "1   50.316402  54.336334  50.062355  53.952770  22942800\n",
       "9   51.158245  51.292744  49.648903  49.937820   9181600\n",
       "10  49.409801  50.993862  49.285267  50.565468  15190400\n",
       "11  50.286514  50.680038  49.474556  49.818268   5176800"
      ]
     },
     "execution_count": 8,
     "metadata": {},
     "output_type": "execute_result"
    }
   ],
   "source": [
    "data_training=data_training.drop(['Date','Adj Close'],axis=1)\n",
    "data_training.head()"
   ]
  },
  {
   "cell_type": "markdown",
   "metadata": {},
   "source": [
    "### 1.2 Feature scaling"
   ]
  },
  {
   "cell_type": "code",
   "execution_count": 9,
   "metadata": {},
   "outputs": [],
   "source": [
    "from sklearn.preprocessing import MinMaxScaler\n",
    "\n",
    "scaler = MinMaxScaler()\n",
    "data_training = scaler.fit_transform(data_training)"
   ]
  },
  {
   "cell_type": "code",
   "execution_count": 10,
   "metadata": {},
   "outputs": [
    {
     "data": {
      "text/plain": [
       "array([[2.73426779e-04, 7.80107183e-04, 0.00000000e+00, 1.11307572e-04,\n",
       "        5.43577404e-01],\n",
       "       [6.14369781e-04, 2.46809237e-03, 1.53469411e-03, 2.79949983e-03,\n",
       "        2.77885613e-01],\n",
       "       [1.18485547e-03, 4.13592062e-04, 1.25412121e-03, 8.09494841e-05,\n",
       "        1.11151095e-01],\n",
       "       ...,\n",
       "       [9.47203350e-01, 9.51326654e-01, 9.38911463e-01, 9.48831068e-01,\n",
       "        1.86639138e-02],\n",
       "       [9.48558676e-01, 9.45528209e-01, 9.35945938e-01, 9.38566105e-01,\n",
       "        1.90710208e-02],\n",
       "       [9.45061913e-01, 9.43091378e-01, 9.32104979e-01, 9.35695178e-01,\n",
       "        3.81662741e-02]])"
      ]
     },
     "execution_count": 10,
     "metadata": {},
     "output_type": "execute_result"
    }
   ],
   "source": [
    "data_training"
   ]
  },
  {
   "cell_type": "markdown",
   "metadata": {},
   "source": [
    "### 1.3 Data structure creation\n",
    "\n",
    "Important step to create a sliding window! A special data structure is needed to cover 60-time stamps, based on which RNN will predict the 61st price. Here the number of past timestamps is set to 60 based on experimentation. Thus, X_train is a nested list, which contains lists of 60 time-stamp prices. y_train is a list of stock prices which is the next day stock price, corresponding to each list in X_train. Specifically,"
   ]
  },
  {
   "cell_type": "code",
   "execution_count": 11,
   "metadata": {},
   "outputs": [
    {
     "data": {
      "text/plain": [
       "2632"
      ]
     },
     "execution_count": 11,
     "metadata": {},
     "output_type": "execute_result"
    }
   ],
   "source": [
    "X_train = []\n",
    "y_train = []\n",
    "\n",
    "data_training.shape[0]"
   ]
  },
  {
   "cell_type": "code",
   "execution_count": 12,
   "metadata": {},
   "outputs": [],
   "source": [
    "for i in range(60, data_training.shape[0]):\n",
    "\n",
    "    X_train.append(data_training[i-60: i])\n",
    "    y_train.append(data_training[i, 0])\n"
   ]
  },
  {
   "cell_type": "code",
   "execution_count": 13,
   "metadata": {},
   "outputs": [],
   "source": [
    " X_train, y_train = np.array(X_train), np.array(y_train)"
   ]
  },
  {
   "cell_type": "code",
   "execution_count": 14,
   "metadata": {},
   "outputs": [
    {
     "data": {
      "text/plain": [
       "((2572, 60, 5), (2572,))"
      ]
     },
     "execution_count": 14,
     "metadata": {},
     "output_type": "execute_result"
    }
   ],
   "source": [
    "X_train.shape, y_train.shape"
   ]
  },
  {
   "cell_type": "markdown",
   "metadata": {},
   "source": [
    "## 1.4 Data reshaping"
   ]
  },
  {
   "cell_type": "code",
   "execution_count": 15,
   "metadata": {},
   "outputs": [],
   "source": [
    "#X_train = np.reshape(X_train, newshape = (X_train.shape[0], X_train.shape[1], 1))"
   ]
  },
  {
   "cell_type": "markdown",
   "metadata": {},
   "source": [
    "## 2. Model building\n",
    "### RNN model (Deep-Learning)"
   ]
  },
  {
   "cell_type": "code",
   "execution_count": 16,
   "metadata": {},
   "outputs": [],
   "source": [
    "#import Tensorflow library\n",
    "\n",
    "from tensorflow.keras import Sequential\n",
    "\n",
    "from tensorflow.keras.layers import Dense,LSTM,Dropout\n"
   ]
  },
  {
   "cell_type": "code",
   "execution_count": 17,
   "metadata": {},
   "outputs": [],
   "source": [
    "# initialize the model\n",
    "\n",
    "regressor = Sequential()\n",
    "\n",
    "#add the 1st LSTM layer with the Dropout layer \n",
    "regressor.add(LSTM(units = 50,activation='relu',return_sequences = True, input_shape = (X_train.shape[1], 5)))\n",
    "regressor.add(Dropout(rate = 0.2))\n",
    "\n",
    "##add 2nd lstm layer\n",
    "regressor.add(LSTM(units = 60,activation='relu', return_sequences = True))\n",
    "regressor.add(Dropout(rate = 0.3))\n",
    "\n",
    "##add 3rd lstm layer\n",
    "regressor.add(LSTM(units = 80,activation='relu', return_sequences = True))\n",
    "regressor.add(Dropout(rate = 0.4))\n",
    "\n",
    "##add 4th lstm layer\n",
    "regressor.add(LSTM(units = 120, return_sequences = False))\n",
    "regressor.add(Dropout(rate = 0.5))\n",
    "\n",
    "#output layer. The output dimension is 1 since we are predicting 1 price each time.\n",
    "regressor.add(Dense(units = 1))\n"
   ]
  },
  {
   "cell_type": "code",
   "execution_count": 18,
   "metadata": {},
   "outputs": [
    {
     "name": "stdout",
     "output_type": "stream",
     "text": [
      "Model: \"sequential\"\n",
      "_________________________________________________________________\n",
      "Layer (type)                 Output Shape              Param #   \n",
      "=================================================================\n",
      "lstm (LSTM)                  (None, 60, 50)            11200     \n",
      "_________________________________________________________________\n",
      "dropout (Dropout)            (None, 60, 50)            0         \n",
      "_________________________________________________________________\n",
      "lstm_1 (LSTM)                (None, 60, 60)            26640     \n",
      "_________________________________________________________________\n",
      "dropout_1 (Dropout)          (None, 60, 60)            0         \n",
      "_________________________________________________________________\n",
      "lstm_2 (LSTM)                (None, 60, 80)            45120     \n",
      "_________________________________________________________________\n",
      "dropout_2 (Dropout)          (None, 60, 80)            0         \n",
      "_________________________________________________________________\n",
      "lstm_3 (LSTM)                (None, 120)               96480     \n",
      "_________________________________________________________________\n",
      "dropout_3 (Dropout)          (None, 120)               0         \n",
      "_________________________________________________________________\n",
      "dense (Dense)                (None, 1)                 121       \n",
      "=================================================================\n",
      "Total params: 179,561\n",
      "Trainable params: 179,561\n",
      "Non-trainable params: 0\n",
      "_________________________________________________________________\n"
     ]
    }
   ],
   "source": [
    "regressor.summary()"
   ]
  },
  {
   "cell_type": "markdown",
   "metadata": {},
   "source": [
    "## 3. Model compiling"
   ]
  },
  {
   "cell_type": "code",
   "execution_count": 19,
   "metadata": {},
   "outputs": [],
   "source": [
    "regressor.compile(optimizer ='adam', loss = 'mean_squared_error')"
   ]
  },
  {
   "cell_type": "markdown",
   "metadata": {},
   "source": [
    "## 4. Model fitting"
   ]
  },
  {
   "cell_type": "code",
   "execution_count": 20,
   "metadata": {},
   "outputs": [
    {
     "name": "stdout",
     "output_type": "stream",
     "text": [
      "Epoch 1/100\n",
      "81/81 [==============================] - 14s 169ms/step - loss: 0.0129\n",
      "Epoch 2/100\n",
      "81/81 [==============================] - 13s 160ms/step - loss: 0.0039\n",
      "Epoch 3/100\n",
      "81/81 [==============================] - 13s 162ms/step - loss: 0.0038\n",
      "Epoch 4/100\n",
      "81/81 [==============================] - 14s 168ms/step - loss: 0.0035\n",
      "Epoch 5/100\n",
      "81/81 [==============================] - 14s 171ms/step - loss: 0.0037\n",
      "Epoch 6/100\n",
      "81/81 [==============================] - 14s 168ms/step - loss: 0.0028\n",
      "Epoch 7/100\n",
      "81/81 [==============================] - 14s 167ms/step - loss: 0.0027\n",
      "Epoch 8/100\n",
      "81/81 [==============================] - 14s 175ms/step - loss: 0.0028\n",
      "Epoch 9/100\n",
      "81/81 [==============================] - 13s 166ms/step - loss: 0.0026\n",
      "Epoch 10/100\n",
      "81/81 [==============================] - 14s 168ms/step - loss: 0.0024\n",
      "Epoch 11/100\n",
      "81/81 [==============================] - 15s 186ms/step - loss: 0.0025\n",
      "Epoch 12/100\n",
      "81/81 [==============================] - 13s 165ms/step - loss: 0.0023\n",
      "Epoch 13/100\n",
      "81/81 [==============================] - 13s 165ms/step - loss: 0.0022\n",
      "Epoch 14/100\n",
      "81/81 [==============================] - 14s 174ms/step - loss: 0.00221s - lo\n",
      "Epoch 15/100\n",
      "81/81 [==============================] - 14s 171ms/step - loss: 0.0020\n",
      "Epoch 16/100\n",
      "81/81 [==============================] - 14s 167ms/step - loss: 0.0020\n",
      "Epoch 17/100\n",
      "81/81 [==============================] - 13s 162ms/step - loss: 0.0018\n",
      "Epoch 18/100\n",
      "81/81 [==============================] - 13s 163ms/step - loss: 0.0020\n",
      "Epoch 19/100\n",
      "81/81 [==============================] - 14s 167ms/step - loss: 0.0017\n",
      "Epoch 20/100\n",
      "81/81 [==============================] - 14s 167ms/step - loss: 0.0020\n",
      "Epoch 21/100\n",
      "81/81 [==============================] - 13s 166ms/step - loss: 0.0018\n",
      "Epoch 22/100\n",
      "81/81 [==============================] - 13s 166ms/step - loss: 0.0019\n",
      "Epoch 23/100\n",
      "81/81 [==============================] - 13s 164ms/step - loss: 0.0018\n",
      "Epoch 24/100\n",
      "81/81 [==============================] - 13s 164ms/step - loss: 0.0017\n",
      "Epoch 25/100\n",
      "81/81 [==============================] - 14s 168ms/step - loss: 0.0017\n",
      "Epoch 26/100\n",
      "81/81 [==============================] - 13s 166ms/step - loss: 0.0015\n",
      "Epoch 27/100\n",
      "81/81 [==============================] - 13s 166ms/step - loss: 0.00151s -\n",
      "Epoch 28/100\n",
      "81/81 [==============================] - 13s 166ms/step - loss: 0.0018\n",
      "Epoch 29/100\n",
      "81/81 [==============================] - 14s 171ms/step - loss: 0.0017\n",
      "Epoch 30/100\n",
      "81/81 [==============================] - 14s 172ms/step - loss: 0.0013\n",
      "Epoch 31/100\n",
      "81/81 [==============================] - 13s 164ms/step - loss: 0.0014\n",
      "Epoch 32/100\n",
      "81/81 [==============================] - 13s 165ms/step - loss: 0.0013\n",
      "Epoch 33/100\n",
      "81/81 [==============================] - 14s 167ms/step - loss: 0.0016\n",
      "Epoch 34/100\n",
      "81/81 [==============================] - 14s 169ms/step - loss: 0.0016\n",
      "Epoch 35/100\n",
      "81/81 [==============================] - 14s 167ms/step - loss: 0.0013\n",
      "Epoch 36/100\n",
      "81/81 [==============================] - 14s 167ms/step - loss: 0.0013\n",
      "Epoch 37/100\n",
      "81/81 [==============================] - 14s 167ms/step - loss: 0.0017\n",
      "Epoch 38/100\n",
      "81/81 [==============================] - 13s 166ms/step - loss: 0.0014\n",
      "Epoch 39/100\n",
      "81/81 [==============================] - 13s 167ms/step - loss: 0.0014\n",
      "Epoch 40/100\n",
      "81/81 [==============================] - 14s 168ms/step - loss: 0.00131s - l\n",
      "Epoch 41/100\n",
      "81/81 [==============================] - 14s 169ms/step - loss: 0.0012\n",
      "Epoch 42/100\n",
      "81/81 [==============================] - 14s 170ms/step - loss: 0.0012\n",
      "Epoch 43/100\n",
      "81/81 [==============================] - 14s 169ms/step - loss: 0.0013\n",
      "Epoch 44/100\n",
      "81/81 [==============================] - 14s 169ms/step - loss: 0.0012\n",
      "Epoch 45/100\n",
      "81/81 [==============================] - 15s 184ms/step - loss: 0.0013\n",
      "Epoch 46/100\n",
      "81/81 [==============================] - 18s 220ms/step - loss: 0.0012\n",
      "Epoch 47/100\n",
      "81/81 [==============================] - 23s 283ms/step - loss: 0.0011\n",
      "Epoch 48/100\n",
      "81/81 [==============================] - 21s 255ms/step - loss: 0.0013\n",
      "Epoch 49/100\n",
      "81/81 [==============================] - 20s 250ms/step - loss: 0.0012\n",
      "Epoch 50/100\n",
      "81/81 [==============================] - 24s 297ms/step - loss: 0.0013\n",
      "Epoch 51/100\n",
      "81/81 [==============================] - 24s 302ms/step - loss: 0.0012\n",
      "Epoch 52/100\n",
      "81/81 [==============================] - 21s 259ms/step - loss: 0.0012\n",
      "Epoch 53/100\n",
      "81/81 [==============================] - 23s 278ms/step - loss: 0.0011\n",
      "Epoch 54/100\n",
      "81/81 [==============================] - 20s 251ms/step - loss: 0.0012\n",
      "Epoch 55/100\n",
      "81/81 [==============================] - 20s 247ms/step - loss: 0.0012\n",
      "Epoch 56/100\n",
      "81/81 [==============================] - 20s 251ms/step - loss: 0.0011\n",
      "Epoch 57/100\n",
      "81/81 [==============================] - 21s 260ms/step - loss: 0.0012\n",
      "Epoch 58/100\n",
      "81/81 [==============================] - 20s 245ms/step - loss: 0.0011\n",
      "Epoch 59/100\n",
      "81/81 [==============================] - 23s 290ms/step - loss: 0.0011\n",
      "Epoch 60/100\n",
      "81/81 [==============================] - 21s 255ms/step - loss: 0.0011\n",
      "Epoch 61/100\n",
      "81/81 [==============================] - 20s 247ms/step - loss: 0.0011\n",
      "Epoch 62/100\n",
      "81/81 [==============================] - 20s 246ms/step - loss: 9.5273e-04\n",
      "Epoch 63/100\n",
      "81/81 [==============================] - 18s 224ms/step - loss: 0.0012\n",
      "Epoch 64/100\n",
      "81/81 [==============================] - 18s 222ms/step - loss: 0.0011\n",
      "Epoch 65/100\n",
      "81/81 [==============================] - 20s 250ms/step - loss: 0.0011\n",
      "Epoch 66/100\n",
      "81/81 [==============================] - 17s 215ms/step - loss: 0.0010\n",
      "Epoch 67/100\n",
      "81/81 [==============================] - 17s 212ms/step - loss: 0.0011\n",
      "Epoch 68/100\n",
      "81/81 [==============================] - 17s 214ms/step - loss: 0.0011\n",
      "Epoch 69/100\n",
      "81/81 [==============================] - 17s 213ms/step - loss: 0.0011\n",
      "Epoch 70/100\n",
      "81/81 [==============================] - 17s 212ms/step - loss: 0.0011\n",
      "Epoch 71/100\n",
      "81/81 [==============================] - 17s 211ms/step - loss: 0.0012\n",
      "Epoch 72/100\n",
      "81/81 [==============================] - 17s 214ms/step - loss: 0.0011\n",
      "Epoch 73/100\n",
      "81/81 [==============================] - 17s 211ms/step - loss: 0.0011\n",
      "Epoch 74/100\n",
      "81/81 [==============================] - 17s 209ms/step - loss: 9.8174e-04\n",
      "Epoch 75/100\n",
      "81/81 [==============================] - 17s 213ms/step - loss: 0.0011\n",
      "Epoch 76/100\n",
      "81/81 [==============================] - 17s 212ms/step - loss: 0.0011\n",
      "Epoch 77/100\n",
      "81/81 [==============================] - 17s 211ms/step - loss: 0.0012\n",
      "Epoch 78/100\n",
      "81/81 [==============================] - 17s 208ms/step - loss: 0.0011\n",
      "Epoch 79/100\n",
      "81/81 [==============================] - 17s 211ms/step - loss: 0.0012\n",
      "Epoch 80/100\n",
      "81/81 [==============================] - 18s 221ms/step - loss: 0.0011\n",
      "Epoch 81/100\n",
      "81/81 [==============================] - 18s 221ms/step - loss: 0.0011\n",
      "Epoch 82/100\n",
      "81/81 [==============================] - 18s 218ms/step - loss: 9.7735e-04\n",
      "Epoch 83/100\n",
      "81/81 [==============================] - 18s 226ms/step - loss: 0.0011\n",
      "Epoch 84/100\n",
      "81/81 [==============================] - 17s 215ms/step - loss: 0.0011\n",
      "Epoch 85/100\n",
      "81/81 [==============================] - 18s 220ms/step - loss: 0.0011\n",
      "Epoch 86/100\n",
      "81/81 [==============================] - 19s 237ms/step - loss: 0.0011\n",
      "Epoch 87/100\n",
      "81/81 [==============================] - 18s 219ms/step - loss: 9.7667e-04\n",
      "Epoch 88/100\n",
      "81/81 [==============================] - 17s 214ms/step - loss: 0.0011\n",
      "Epoch 89/100\n",
      "81/81 [==============================] - 19s 231ms/step - loss: 0.0011\n",
      "Epoch 90/100\n",
      "81/81 [==============================] - 19s 230ms/step - loss: 9.7827e-04\n",
      "Epoch 91/100\n",
      "81/81 [==============================] - 17s 212ms/step - loss: 0.0010\n",
      "Epoch 92/100\n",
      "81/81 [==============================] - 17s 212ms/step - loss: 0.0010\n",
      "Epoch 93/100\n",
      "81/81 [==============================] - 17s 215ms/step - loss: 0.0011\n",
      "Epoch 94/100\n",
      "81/81 [==============================] - 17s 211ms/step - loss: 0.0010\n",
      "Epoch 95/100\n",
      "81/81 [==============================] - 19s 231ms/step - loss: 9.2118e-04\n",
      "Epoch 96/100\n",
      "81/81 [==============================] - 20s 253ms/step - loss: 0.0010\n",
      "Epoch 97/100\n",
      "81/81 [==============================] - 19s 229ms/step - loss: 9.1987e-04\n",
      "Epoch 98/100\n"
     ]
    },
    {
     "name": "stdout",
     "output_type": "stream",
     "text": [
      "81/81 [==============================] - 17s 212ms/step - loss: 9.3434e-04\n",
      "Epoch 99/100\n",
      "81/81 [==============================] - 17s 209ms/step - loss: 0.0011\n",
      "Epoch 100/100\n",
      "81/81 [==============================] - 17s 212ms/step - loss: 9.2123e-04\n"
     ]
    },
    {
     "data": {
      "text/plain": [
       "<tensorflow.python.keras.callbacks.History at 0x1e737007948>"
      ]
     },
     "execution_count": 20,
     "metadata": {},
     "output_type": "execute_result"
    }
   ],
   "source": [
    "regressor.fit(x = X_train, y = y_train, batch_size = 32, epochs = 100)"
   ]
  },
  {
   "cell_type": "markdown",
   "metadata": {},
   "source": [
    "## 5. Model prediction\n",
    "### 5.1 Import test data\n",
    "\n"
   ]
  },
  {
   "cell_type": "code",
   "execution_count": 21,
   "metadata": {},
   "outputs": [],
   "source": [
    "data_test=data[data['Date']>='2019-01-01'].copy()\n",
    "data_training=data[data['Date']<'2019-01-01'].copy()"
   ]
  },
  {
   "cell_type": "code",
   "execution_count": 22,
   "metadata": {},
   "outputs": [
    {
     "data": {
      "text/html": [
       "<div>\n",
       "<style scoped>\n",
       "    .dataframe tbody tr th:only-of-type {\n",
       "        vertical-align: middle;\n",
       "    }\n",
       "\n",
       "    .dataframe tbody tr th {\n",
       "        vertical-align: top;\n",
       "    }\n",
       "\n",
       "    .dataframe thead th {\n",
       "        text-align: right;\n",
       "    }\n",
       "</style>\n",
       "<table border=\"1\" class=\"dataframe\">\n",
       "  <thead>\n",
       "    <tr style=\"text-align: right;\">\n",
       "      <th></th>\n",
       "      <th>Date</th>\n",
       "      <th>Open</th>\n",
       "      <th>High</th>\n",
       "      <th>Low</th>\n",
       "      <th>Close</th>\n",
       "      <th>Adj Close</th>\n",
       "      <th>Volume</th>\n",
       "    </tr>\n",
       "  </thead>\n",
       "  <tbody>\n",
       "    <tr>\n",
       "      <td>2</td>\n",
       "      <td>23-08-2004</td>\n",
       "      <td>55.168217</td>\n",
       "      <td>56.528118</td>\n",
       "      <td>54.321388</td>\n",
       "      <td>54.495735</td>\n",
       "      <td>54.495735</td>\n",
       "      <td>18342800</td>\n",
       "    </tr>\n",
       "    <tr>\n",
       "      <td>3</td>\n",
       "      <td>24-08-2004</td>\n",
       "      <td>55.412300</td>\n",
       "      <td>55.591629</td>\n",
       "      <td>51.591621</td>\n",
       "      <td>52.239193</td>\n",
       "      <td>52.239193</td>\n",
       "      <td>15319700</td>\n",
       "    </tr>\n",
       "    <tr>\n",
       "      <td>4</td>\n",
       "      <td>25-08-2004</td>\n",
       "      <td>52.284027</td>\n",
       "      <td>53.798351</td>\n",
       "      <td>51.746044</td>\n",
       "      <td>52.802086</td>\n",
       "      <td>52.802086</td>\n",
       "      <td>9232100</td>\n",
       "    </tr>\n",
       "    <tr>\n",
       "      <td>5</td>\n",
       "      <td>26-08-2004</td>\n",
       "      <td>52.279045</td>\n",
       "      <td>53.773445</td>\n",
       "      <td>52.134586</td>\n",
       "      <td>53.753517</td>\n",
       "      <td>53.753517</td>\n",
       "      <td>7128600</td>\n",
       "    </tr>\n",
       "    <tr>\n",
       "      <td>6</td>\n",
       "      <td>27-08-2004</td>\n",
       "      <td>53.848164</td>\n",
       "      <td>54.107193</td>\n",
       "      <td>52.647663</td>\n",
       "      <td>52.876804</td>\n",
       "      <td>52.876804</td>\n",
       "      <td>6241200</td>\n",
       "    </tr>\n",
       "  </tbody>\n",
       "</table>\n",
       "</div>"
      ],
      "text/plain": [
       "         Date       Open       High        Low      Close  Adj Close    Volume\n",
       "2  23-08-2004  55.168217  56.528118  54.321388  54.495735  54.495735  18342800\n",
       "3  24-08-2004  55.412300  55.591629  51.591621  52.239193  52.239193  15319700\n",
       "4  25-08-2004  52.284027  53.798351  51.746044  52.802086  52.802086   9232100\n",
       "5  26-08-2004  52.279045  53.773445  52.134586  53.753517  53.753517   7128600\n",
       "6  27-08-2004  53.848164  54.107193  52.647663  52.876804  52.876804   6241200"
      ]
     },
     "execution_count": 22,
     "metadata": {},
     "output_type": "execute_result"
    }
   ],
   "source": [
    "# Data processing\n",
    "\n",
    "data_test.head()"
   ]
  },
  {
   "cell_type": "code",
   "execution_count": 23,
   "metadata": {},
   "outputs": [],
   "source": [
    "past_60_days=data_training.tail(60)"
   ]
  },
  {
   "cell_type": "markdown",
   "metadata": {},
   "source": [
    "we need to concatenate the train and test datasets for prediction, because we use the previous 60 days’ stock prices to predict the next-day price. In another word, we need the 60 days’ price before the 1st date in the test dataset."
   ]
  },
  {
   "cell_type": "code",
   "execution_count": 24,
   "metadata": {},
   "outputs": [],
   "source": [
    "df=past_60_days.append(data_test,ignore_index=True)"
   ]
  },
  {
   "cell_type": "code",
   "execution_count": 25,
   "metadata": {},
   "outputs": [
    {
     "data": {
      "text/html": [
       "<div>\n",
       "<style scoped>\n",
       "    .dataframe tbody tr th:only-of-type {\n",
       "        vertical-align: middle;\n",
       "    }\n",
       "\n",
       "    .dataframe tbody tr th {\n",
       "        vertical-align: top;\n",
       "    }\n",
       "\n",
       "    .dataframe thead th {\n",
       "        text-align: right;\n",
       "    }\n",
       "</style>\n",
       "<table border=\"1\" class=\"dataframe\">\n",
       "  <thead>\n",
       "    <tr style=\"text-align: right;\">\n",
       "      <th></th>\n",
       "      <th>Date</th>\n",
       "      <th>Open</th>\n",
       "      <th>High</th>\n",
       "      <th>Low</th>\n",
       "      <th>Close</th>\n",
       "      <th>Adj Close</th>\n",
       "      <th>Volume</th>\n",
       "    </tr>\n",
       "  </thead>\n",
       "  <tbody>\n",
       "    <tr>\n",
       "      <td>0</td>\n",
       "      <td>18-02-2020</td>\n",
       "      <td>1515.000000</td>\n",
       "      <td>1531.630005</td>\n",
       "      <td>1512.589966</td>\n",
       "      <td>1519.670044</td>\n",
       "      <td>1519.670044</td>\n",
       "      <td>1120700</td>\n",
       "    </tr>\n",
       "    <tr>\n",
       "      <td>1</td>\n",
       "      <td>19-02-2020</td>\n",
       "      <td>1525.069946</td>\n",
       "      <td>1532.105957</td>\n",
       "      <td>1521.400024</td>\n",
       "      <td>1526.689941</td>\n",
       "      <td>1526.689941</td>\n",
       "      <td>949300</td>\n",
       "    </tr>\n",
       "    <tr>\n",
       "      <td>2</td>\n",
       "      <td>20-02-2020</td>\n",
       "      <td>1522.000000</td>\n",
       "      <td>1529.640015</td>\n",
       "      <td>1506.819946</td>\n",
       "      <td>1518.150024</td>\n",
       "      <td>1518.150024</td>\n",
       "      <td>1096600</td>\n",
       "    </tr>\n",
       "    <tr>\n",
       "      <td>3</td>\n",
       "      <td>02-03-2020</td>\n",
       "      <td>1351.609985</td>\n",
       "      <td>1390.869995</td>\n",
       "      <td>1326.814941</td>\n",
       "      <td>1389.109985</td>\n",
       "      <td>1389.109985</td>\n",
       "      <td>2431500</td>\n",
       "    </tr>\n",
       "    <tr>\n",
       "      <td>4</td>\n",
       "      <td>03-03-2020</td>\n",
       "      <td>1399.420044</td>\n",
       "      <td>1410.150024</td>\n",
       "      <td>1332.000000</td>\n",
       "      <td>1341.390015</td>\n",
       "      <td>1341.390015</td>\n",
       "      <td>2402300</td>\n",
       "    </tr>\n",
       "  </tbody>\n",
       "</table>\n",
       "</div>"
      ],
      "text/plain": [
       "         Date         Open         High          Low        Close  \\\n",
       "0  18-02-2020  1515.000000  1531.630005  1512.589966  1519.670044   \n",
       "1  19-02-2020  1525.069946  1532.105957  1521.400024  1526.689941   \n",
       "2  20-02-2020  1522.000000  1529.640015  1506.819946  1518.150024   \n",
       "3  02-03-2020  1351.609985  1390.869995  1326.814941  1389.109985   \n",
       "4  03-03-2020  1399.420044  1410.150024  1332.000000  1341.390015   \n",
       "\n",
       "     Adj Close   Volume  \n",
       "0  1519.670044  1120700  \n",
       "1  1526.689941   949300  \n",
       "2  1518.150024  1096600  \n",
       "3  1389.109985  2431500  \n",
       "4  1341.390015  2402300  "
      ]
     },
     "execution_count": 25,
     "metadata": {},
     "output_type": "execute_result"
    }
   ],
   "source": [
    "df.head()"
   ]
  },
  {
   "cell_type": "code",
   "execution_count": 26,
   "metadata": {},
   "outputs": [
    {
     "data": {
      "text/html": [
       "<div>\n",
       "<style scoped>\n",
       "    .dataframe tbody tr th:only-of-type {\n",
       "        vertical-align: middle;\n",
       "    }\n",
       "\n",
       "    .dataframe tbody tr th {\n",
       "        vertical-align: top;\n",
       "    }\n",
       "\n",
       "    .dataframe thead th {\n",
       "        text-align: right;\n",
       "    }\n",
       "</style>\n",
       "<table border=\"1\" class=\"dataframe\">\n",
       "  <thead>\n",
       "    <tr style=\"text-align: right;\">\n",
       "      <th></th>\n",
       "      <th>Open</th>\n",
       "      <th>High</th>\n",
       "      <th>Low</th>\n",
       "      <th>Close</th>\n",
       "      <th>Volume</th>\n",
       "    </tr>\n",
       "  </thead>\n",
       "  <tbody>\n",
       "    <tr>\n",
       "      <td>0</td>\n",
       "      <td>1515.000000</td>\n",
       "      <td>1531.630005</td>\n",
       "      <td>1512.589966</td>\n",
       "      <td>1519.670044</td>\n",
       "      <td>1120700</td>\n",
       "    </tr>\n",
       "    <tr>\n",
       "      <td>1</td>\n",
       "      <td>1525.069946</td>\n",
       "      <td>1532.105957</td>\n",
       "      <td>1521.400024</td>\n",
       "      <td>1526.689941</td>\n",
       "      <td>949300</td>\n",
       "    </tr>\n",
       "    <tr>\n",
       "      <td>2</td>\n",
       "      <td>1522.000000</td>\n",
       "      <td>1529.640015</td>\n",
       "      <td>1506.819946</td>\n",
       "      <td>1518.150024</td>\n",
       "      <td>1096600</td>\n",
       "    </tr>\n",
       "    <tr>\n",
       "      <td>3</td>\n",
       "      <td>1351.609985</td>\n",
       "      <td>1390.869995</td>\n",
       "      <td>1326.814941</td>\n",
       "      <td>1389.109985</td>\n",
       "      <td>2431500</td>\n",
       "    </tr>\n",
       "    <tr>\n",
       "      <td>4</td>\n",
       "      <td>1399.420044</td>\n",
       "      <td>1410.150024</td>\n",
       "      <td>1332.000000</td>\n",
       "      <td>1341.390015</td>\n",
       "      <td>2402300</td>\n",
       "    </tr>\n",
       "  </tbody>\n",
       "</table>\n",
       "</div>"
      ],
      "text/plain": [
       "          Open         High          Low        Close   Volume\n",
       "0  1515.000000  1531.630005  1512.589966  1519.670044  1120700\n",
       "1  1525.069946  1532.105957  1521.400024  1526.689941   949300\n",
       "2  1522.000000  1529.640015  1506.819946  1518.150024  1096600\n",
       "3  1351.609985  1390.869995  1326.814941  1389.109985  2431500\n",
       "4  1399.420044  1410.150024  1332.000000  1341.390015  2402300"
      ]
     },
     "execution_count": 26,
     "metadata": {},
     "output_type": "execute_result"
    }
   ],
   "source": [
    "df=df.drop(['Date','Adj Close'],axis=1)\n",
    "df.head()"
   ]
  },
  {
   "cell_type": "markdown",
   "metadata": {},
   "source": [
    "### 5.2 Data processing"
   ]
  },
  {
   "cell_type": "code",
   "execution_count": 27,
   "metadata": {},
   "outputs": [],
   "source": [
    "inputs=scaler.transform(df)"
   ]
  },
  {
   "cell_type": "code",
   "execution_count": 28,
   "metadata": {},
   "outputs": [],
   "source": [
    "#create the test data structure\n",
    "\n",
    "X_test = []\n",
    "y_test = []\n",
    "for i in range(60, inputs.shape[0]): \n",
    "    X_test.append(inputs[i-60: i])\n",
    "    y_test.append(inputs[i, 0])\n",
    "    "
   ]
  },
  {
   "cell_type": "code",
   "execution_count": 29,
   "metadata": {},
   "outputs": [
    {
     "data": {
      "text/plain": [
       "((1362, 60, 5), (1362,))"
      ]
     },
     "execution_count": 29,
     "metadata": {},
     "output_type": "execute_result"
    }
   ],
   "source": [
    "X_test = np.array(X_test)\n",
    "y_test= np.array(y_test)\n",
    "X_test.shape,y_test.shape"
   ]
  },
  {
   "cell_type": "markdown",
   "metadata": {},
   "source": [
    "### 5.3 Model prediction"
   ]
  },
  {
   "cell_type": "code",
   "execution_count": 30,
   "metadata": {},
   "outputs": [],
   "source": [
    "predicted_stock_price = regressor.predict(X_test)"
   ]
  },
  {
   "cell_type": "code",
   "execution_count": 31,
   "metadata": {},
   "outputs": [
    {
     "data": {
      "text/plain": [
       "array([[0.79835445],\n",
       "       [0.7737372 ],\n",
       "       [0.73688304],\n",
       "       ...,\n",
       "       [0.8210373 ],\n",
       "       [0.8126651 ],\n",
       "       [0.8000818 ]], dtype=float32)"
      ]
     },
     "execution_count": 31,
     "metadata": {},
     "output_type": "execute_result"
    }
   ],
   "source": [
    "predicted_stock_price"
   ]
  },
  {
   "cell_type": "code",
   "execution_count": 32,
   "metadata": {},
   "outputs": [
    {
     "data": {
      "text/plain": [
       "array([6.77662810e-04, 6.75025317e-04, 6.78610578e-04, 6.77106900e-04,\n",
       "       1.21162775e-08])"
      ]
     },
     "execution_count": 32,
     "metadata": {},
     "output_type": "execute_result"
    }
   ],
   "source": [
    "scaler.scale_"
   ]
  },
  {
   "cell_type": "code",
   "execution_count": 33,
   "metadata": {},
   "outputs": [
    {
     "data": {
      "text/plain": [
       "1475.660144312774"
      ]
     },
     "execution_count": 33,
     "metadata": {},
     "output_type": "execute_result"
    }
   ],
   "source": [
    "scale=1/6.77662810e-04\n",
    "scale"
   ]
  },
  {
   "cell_type": "code",
   "execution_count": 34,
   "metadata": {},
   "outputs": [
    {
     "data": {
      "text/plain": [
       "array([[1178.0999],\n",
       "       [1141.7732],\n",
       "       [1087.3889],\n",
       "       ...,\n",
       "       [1211.572 ],\n",
       "       [1199.2175],\n",
       "       [1180.6488]], dtype=float32)"
      ]
     },
     "execution_count": 34,
     "metadata": {},
     "output_type": "execute_result"
    }
   ],
   "source": [
    "#we have predicted is the scaled values, so we need to reverse the prediction.\n",
    "\n",
    "predicted_stock_price = predicted_stock_price*scale\n",
    "y_test=y_test*scale\n",
    "predicted_stock_price"
   ]
  },
  {
   "cell_type": "markdown",
   "metadata": {},
   "source": [
    "## 6. Result visualization"
   ]
  },
  {
   "cell_type": "code",
   "execution_count": 35,
   "metadata": {},
   "outputs": [
    {
     "data": {
      "image/png": "[encoded data removed]",
      "text/plain": [
       "<Figure size 432x288 with 1 Axes>"
      ]
     },
     "metadata": {
      "needs_background": "light"
     },
     "output_type": "display_data"
    }
   ],
   "source": [
    "plt.plot(y_test, color = 'red', label = 'Real price')\n",
    "plt.plot(predicted_stock_price, color = 'blue', label = 'Predicted price')\n",
    "plt.title('Google price prediction')\n",
    "plt.xlabel('Time')\n",
    "plt.ylabel('Price')\n",
    "plt.legend()\n",
    "plt.show()"
   ]
  },
  {
   "cell_type": "code",
   "execution_count": null,
   "metadata": {},
   "outputs": [],
   "source": []
  },
  {
   "cell_type": "code",
   "execution_count": null,
   "metadata": {},
   "outputs": [],
   "source": []
  },
  {
   "cell_type": "code",
   "execution_count": null,
   "metadata": {},
   "outputs": [],
   "source": []
  }
 ],
 "metadata": {
  "kernelspec": {
   "display_name": "Python 3",
   "language": "python",
   "name": "python3"
  },
  "language_info": {
   "codemirror_mode": {
    "name": "ipython",
    "version": 3
   },
   "file_extension": ".py",
   "mimetype": "text/x-python",
   "name": "python",
   "nbconvert_exporter": "python",
   "pygments_lexer": "ipython3",
   "version": "3.7.4"
  }
 },
 "nbformat": 4,
 "nbformat_minor": 2
}
